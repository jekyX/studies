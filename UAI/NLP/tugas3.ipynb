{
  "cells": [
    {
      "cell_type": "markdown",
      "id": "a9c8c3b3",
      "metadata": {
        "id": "a9c8c3b3"
      },
      "source": [
        "# Natural Language Processing\n",
        "\n",
        "## Tugas 3: Information Retrieval\n",
        "\n",
        "### Mekanisme\n",
        "\n",
        "Anda hanya diwajibkan untuk mengumpulkan file ini saja ke uploader yang disediakan di https://elearning.uai.ac.id/. Ganti nama file ini saat pengumpulan menjadi **tugas3_NIM.ipynb**.\n",
        "\n",
        "**Keterlambatan**: Pengumpulan tugas yang melebihi tenggat yang telah ditentukan tidak akan diterima. Keterlambatan akan berakibat pada nilai nol untuk tugas ini.\n",
        "\n",
        "**Kolaborasi**: Anda diperbolehkan untuk berdiskusi dengan teman Anda, tetapi dilarang keras menyalin kode maupun tulisan dari teman Anda.\n",
        "\n",
        "### Petunjuk\n",
        "\n",
        "Pastikan jawaban Anda singkat, padat, dan jelas. Mayoritas pertanyaan yang diberikan dapat dijawab dalam 3-4 kalimat saja.\n",
        "\n",
        "### Catatan ⚠️\n",
        "\n",
        "1. Anda mungkin membutuhkan akses GPU untuk mengerjakan tugas ini. Untuk memudahkan, Anda dapat menggunakan akses GPU gratis dari [Google Colab](https://colab.research.google.com/).\n",
        "2. Untuk bagian 3 dari tugas ini, Anda memerlukan akses ke model [Llama-3.2-1B](https://huggingface.co/meta-llama/Llama-3.2-1B)."
      ]
    },
    {
      "cell_type": "code",
      "execution_count": null,
      "id": "fc2bd648",
      "metadata": {
        "id": "fc2bd648"
      },
      "outputs": [],
      "source": [
        "import matplotlib.pyplot as plt\n",
        "import numpy as np\n",
        "import pandas as pd"
      ]
    },
    {
      "cell_type": "code",
      "execution_count": null,
      "id": "6f2f10e8",
      "metadata": {
        "id": "6f2f10e8"
      },
      "outputs": [],
      "source": [
        "# Jalani cell ini untuk menginstalasi dependencies untuk memuat data dan menjalankan model\n",
        "!pip install huggingface_hub fastparquet pyarrow rank_bm25"
      ]
    },
    {
      "cell_type": "markdown",
      "id": "06c9766c",
      "metadata": {
        "id": "06c9766c"
      },
      "source": [
        "## 1. Spare Matrix Retrieval (15 poin)\n",
        "\n",
        "*Acknowledgement:* Data yang digunakan dalam tugas ini adalah [MS MARCO](https://huggingface.co/datasets/microsoft/ms_marco), sebuah koleksi dataset yang digunakan untuk mengembangkan model deep learning dalam kasus pencarian. Kumpulan data ini adalah jawaban pertanyaan berdasarkan 100.000 pertanyaan Bing asli dan jawaban yang dibuat manusia.\n",
        "\n",
        "Untuk bagian ini, gunakan `df_train` untuk menjawab soal-soal yang diberikan."
      ]
    },
    {
      "cell_type": "code",
      "execution_count": null,
      "id": "83e1cbdc",
      "metadata": {
        "id": "83e1cbdc"
      },
      "outputs": [],
      "source": [
        "splits = {\n",
        "    \"validation\": \"v1.1/validation-00000-of-00001.parquet\",\n",
        "    \"train\": \"v1.1/train-00000-of-00001.parquet\",\n",
        "    \"test\": \"v1.1/test-00000-of-00001.parquet\",\n",
        "}\n",
        "df_train = pd.read_parquet(\"hf://datasets/microsoft/ms_marco/\" + splits[\"train\"])\n",
        "df_val = pd.read_parquet(\"hf://datasets/microsoft/ms_marco/\" + splits[\"validation\"])\n",
        "df_test = pd.read_parquet(\"hf://datasets/microsoft/ms_marco/\" + splits[\"test\"])"
      ]
    },
    {
      "cell_type": "code",
      "execution_count": null,
      "id": "e593d4a3",
      "metadata": {
        "id": "e593d4a3"
      },
      "outputs": [],
      "source": [
        "df_train.head()"
      ]
    },
    {
      "cell_type": "markdown",
      "id": "a9369114",
      "metadata": {
        "id": "a9369114"
      },
      "source": [
        "### Soal 1.1 (2 poin)\n",
        "\n",
        "Terdapat beberapa baris yang tidak memiliki passage yang relevan, i.e. semua elemen `is_selected` bernilai nol. Hapus semua baris tersebut."
      ]
    },
    {
      "cell_type": "code",
      "execution_count": null,
      "id": "b7b3b676",
      "metadata": {
        "id": "b7b3b676"
      },
      "outputs": [],
      "source": [
        "df_train = ... # Ganti ini dengan kode untuk memproses df_train\n",
        "df_val = ... # Ganti ini dengan kode untuk memproses df_val\n",
        "assert df_train.shape[0] == 79704\n",
        "assert df_val.shape[0] == 9706"
      ]
    },
    {
      "cell_type": "markdown",
      "id": "2bec0217",
      "metadata": {
        "id": "2bec0217"
      },
      "source": [
        "### Soal 1.2 (2 poin)\n",
        "\n",
        "Lengkapi fungsi untuk menghitung average precision di bawah ini. Nilai parameter `y_true` adalah `is_selected` dari kolom `passages`, sedangkan `y_scores` adalah nilai yang digunakan untuk mengurutkan passage berdasarkan relevansi."
      ]
    },
    {
      "cell_type": "code",
      "execution_count": null,
      "id": "59751a71",
      "metadata": {
        "id": "59751a71"
      },
      "outputs": [],
      "source": [
        "def average_precision(y_true, y_scores):\n",
        "    pass # Ganti ini dengan kode Anda\n",
        "\n",
        "\n",
        "assert np.isclose(average_precision(np.array([1, 0, 1]), np.array([0.9, 0.8, 0.7])), 0.8333, atol=1e-4)\n",
        "assert np.isclose(average_precision(np.array([1, 0, 1]), np.array([0.95, 0.8, 0.9])), 1.0)\n",
        "assert np.isclose(average_precision(np.array([1, 0, 0]), np.array([0.0, 0.8, 0.9])), 1 / 3)"
      ]
    },
    {
      "cell_type": "markdown",
      "id": "9cc95c1c",
      "metadata": {
        "id": "9cc95c1c"
      },
      "source": [
        "### Soal 1.3 (2 poin)\n",
        "\n",
        "Implementasikan fungsi untuk menghitung cosine similarity."
      ]
    },
    {
      "cell_type": "code",
      "execution_count": null,
      "id": "592f3ec0",
      "metadata": {
        "id": "592f3ec0"
      },
      "outputs": [],
      "source": [
        "def cos_sim(a, b):\n",
        "    pass # Ganti ini dengan kode Anda\n",
        "\n",
        "\n",
        "assert np.isclose(cos_sim(np.array([1, 0]), np.array([1, 0])), 1.0)\n",
        "assert np.isclose(cos_sim(np.array([1, 0]), np.array([0, 1])), 0.0)\n",
        "assert np.isclose(cos_sim(np.array([1, 2]), np.array([2, 4])), 1.0)"
      ]
    },
    {
      "cell_type": "markdown",
      "id": "054dd8da",
      "metadata": {
        "id": "054dd8da"
      },
      "source": [
        "### Soal 1.4 (4 poin)\n",
        "\n",
        "Gunakan metode TF-IDF untuk mengukur relevansi dari passage berdasarkan *cosine similarity* dari query dan passages. Hitung nilai *mean average precision* dari sistem yang dihasilkan. Dalam sistem ini, Anda tidak perlu membandingkan query dengan semua passages dari setiap baris di tabel. Anda hanya perlu membandingkan query dengan passages yang ada dalam satu baris."
      ]
    },
    {
      "cell_type": "code",
      "execution_count": null,
      "id": "da8ac577",
      "metadata": {
        "id": "da8ac577"
      },
      "outputs": [],
      "source": [
        "from sklearn.feature_extraction.text import TfidfVectorizer\n",
        "\n",
        "# Kode Anda di sini"
      ]
    },
    {
      "cell_type": "markdown",
      "id": "ea8da923",
      "metadata": {
        "id": "ea8da923"
      },
      "source": [
        "### Soal 1.5 (2 poin)\n",
        "\n",
        "Implementasikan sistem yang serupa seperti soal 1.3, tetapi kali ini gunakan BM25 untuk menghitung skornya. Gunakan implementasi seperti yang dicontohkan [di sini](https://pypi.org/project/rank-bm25/)."
      ]
    },
    {
      "cell_type": "code",
      "execution_count": null,
      "id": "97bce068",
      "metadata": {
        "id": "97bce068"
      },
      "outputs": [],
      "source": [
        "from rank_bm25 import BM25Okapi\n",
        "\n",
        "# Kode Anda di sini"
      ]
    },
    {
      "cell_type": "markdown",
      "id": "32939d7b",
      "metadata": {
        "id": "32939d7b"
      },
      "source": [
        "### Soal 1.6 (3 poin)\n",
        "\n",
        "Bagaimana nilai MAP yang Anda dapatkan dari BM25 jika dibandingkan dengan tf-idf? Mengapa hasilnya seperti itu?"
      ]
    },
    {
      "cell_type": "markdown",
      "id": "afb6e70b",
      "metadata": {
        "id": "afb6e70b"
      },
      "source": [
        "*Jawaban Anda di sini*"
      ]
    },
    {
      "cell_type": "markdown",
      "id": "a22cde03",
      "metadata": {
        "id": "a22cde03"
      },
      "source": [
        "## 2. Dense Matrix Retrieval (10 poin)"
      ]
    },
    {
      "cell_type": "markdown",
      "id": "2c853d79",
      "metadata": {
        "id": "2c853d79"
      },
      "source": [
        "### Soal 2.1 (2 poin)\n",
        "\n",
        "Ambil 500 sampel (baris) dari `df_val`. Hitung nilai MAP dari sistem dengan tf-idf."
      ]
    },
    {
      "cell_type": "code",
      "execution_count": null,
      "id": "46e4cfb9",
      "metadata": {
        "id": "46e4cfb9"
      },
      "outputs": [],
      "source": [
        "np.random.seed(42)\n",
        "\n",
        "df_sample = ... # Ganti ini dengan kode untuk mengambil sampel dari df_val\n",
        "\n",
        "# Kode Anda di sini"
      ]
    },
    {
      "cell_type": "markdown",
      "id": "3cf85fe3",
      "metadata": {
        "id": "3cf85fe3"
      },
      "source": [
        "### Soal 2.2 (3 poin)\n",
        "\n",
        "Gunakan model `all-MiniLM-L6-v2` untuk menghasilkan embeddings dari query dan passages. Lalu, hitung nilai MAP dari sampel yang dihasilkan di soal 2.1."
      ]
    },
    {
      "cell_type": "code",
      "execution_count": null,
      "id": "acb25eb9",
      "metadata": {
        "id": "acb25eb9"
      },
      "outputs": [],
      "source": [
        "from sentence_transformers import SentenceTransformer\n",
        "\n",
        "# Kode Anda di sini"
      ]
    },
    {
      "cell_type": "markdown",
      "id": "2ae3ab63",
      "metadata": {
        "id": "2ae3ab63"
      },
      "source": [
        "### Soal 2.3 (3 poin)\n",
        "\n",
        "Bagaimana nilai MAP yang Anda dapatkan dari sistem dengan embeddings jika dibandingkan dengan tf-idf? Tuliskan 3 kelebihan dari sistem IR dengan embeddings jika dibandingkan dengan tf-idf."
      ]
    },
    {
      "cell_type": "markdown",
      "id": "89333f9f",
      "metadata": {
        "id": "89333f9f"
      },
      "source": [
        "*Jawaban Anda di sini*"
      ]
    },
    {
      "cell_type": "markdown",
      "id": "72f23430",
      "metadata": {
        "id": "72f23430"
      },
      "source": [
        "### Soal 2.4 (2 poin)\n",
        "\n",
        "Karena dataset yang digunakan sudah menangani bagian *retrieval*, gunakan model `CrossEncoder` untuk memberikan skor dari passages yang ada. Hitung nilai MAP-nya. Apakah Anda mendapatkan nilai MAP yang lebih baik?"
      ]
    },
    {
      "cell_type": "code",
      "execution_count": null,
      "id": "f3cce487",
      "metadata": {
        "id": "f3cce487"
      },
      "outputs": [],
      "source": [
        "from sentence_transformers import CrossEncoder\n",
        "\n",
        "# Kode Anda di sini"
      ]
    },
    {
      "cell_type": "markdown",
      "id": "6fcbcb00",
      "metadata": {
        "id": "6fcbcb00"
      },
      "source": [
        "## 3. Retrieval-Augmented Generation (25 poin)\n",
        "\n",
        "*Acknowledgement:* Data yang digunakan pada bagian ini dikumpulkan oleh [Miguel Escobar Varela](https://miguelescobar.com/) dan tersedia secara terbuka di [HuggingFace](https://huggingface.co/datasets/mevsg/warisan-classification-data-v1)."
      ]
    },
    {
      "cell_type": "code",
      "execution_count": null,
      "id": "f5dabac1",
      "metadata": {
        "id": "f5dabac1"
      },
      "outputs": [],
      "source": [
        "splits = {\n",
        "    \"train\": \"data/train-00000-of-00001.parquet\",\n",
        "    \"test\": \"data/test-00000-of-00001.parquet\",\n",
        "}\n",
        "df = pd.concat(\n",
        "    [\n",
        "        pd.read_parquet(\n",
        "            \"hf://datasets/mevsg/warisan-classification-data-v1/\" + splits[\"train\"]\n",
        "        ),\n",
        "        pd.read_parquet(\n",
        "            \"hf://datasets/mevsg/warisan-classification-data-v1/\" + splits[\"test\"]\n",
        "        ),\n",
        "    ],\n",
        "    ignore_index=True\n",
        ")"
      ]
    },
    {
      "cell_type": "markdown",
      "id": "eb2747e8",
      "metadata": {
        "id": "eb2747e8"
      },
      "source": [
        "### Soal 3.1 (3 poin)\n",
        "\n",
        "Dengan menggunakan model `Llama-3.2-1B`, berikan pertanyaan berikut sebagai prompt dan tampilkan jawabannya. Apa yang dapat Anda amati dari hasilnya?"
      ]
    },
    {
      "cell_type": "code",
      "execution_count": null,
      "id": "c4e5e897",
      "metadata": {
        "id": "c4e5e897"
      },
      "outputs": [],
      "source": [
        "query = \"Apa saja warisan budaya tak benda dari Jawa Barat?\"\n",
        "\n",
        "# Kode Anda di sini"
      ]
    },
    {
      "cell_type": "markdown",
      "id": "dbdd6ae1",
      "metadata": {
        "id": "dbdd6ae1"
      },
      "source": [
        "*Jawaban Anda di sini*"
      ]
    },
    {
      "cell_type": "markdown",
      "id": "95f61b3b",
      "metadata": {
        "id": "95f61b3b"
      },
      "source": [
        "### Soal 3.2 (2 poin)\n",
        "\n",
        "Sekarang, Anda akan membangun sistem retrieval-augmented generation (RAG) sederhana. Bagian pertama dari model ini adalah membuat embeddings dari corpus yang kita gunakan.\n",
        "\n",
        "Bentuk corpus dari kolom `texts`. Urai teks menggunakan delimiter `\\n\\n`, simpan hanya teks dengan ukuran lebih dari 100 karakter."
      ]
    },
    {
      "cell_type": "code",
      "execution_count": null,
      "id": "c33c1bf0",
      "metadata": {
        "id": "c33c1bf0"
      },
      "outputs": [],
      "source": [
        "# Kode Anda di sini\n",
        "assert len(corpus) == 12037"
      ]
    },
    {
      "cell_type": "markdown",
      "id": "462042ea",
      "metadata": {
        "id": "462042ea"
      },
      "source": [
        "### Soal 3.3.a (2 poin)\n",
        "\n",
        "Buat embeddings dari corpus dengan model `all-MiniLM-L6-v2`."
      ]
    },
    {
      "cell_type": "code",
      "execution_count": null,
      "id": "0d1a5f98",
      "metadata": {
        "id": "0d1a5f98"
      },
      "outputs": [],
      "source": [
        "# Kode Anda di sini"
      ]
    },
    {
      "cell_type": "markdown",
      "id": "d5dbca98",
      "metadata": {
        "id": "d5dbca98"
      },
      "source": [
        "### Soal 3.3.b (2 poin)\n",
        "\n",
        "Buat embeddings dari corpus dengan model `intfloat/multilingual-e5-small`."
      ]
    },
    {
      "cell_type": "code",
      "execution_count": null,
      "id": "77deaeb7",
      "metadata": {
        "id": "77deaeb7"
      },
      "outputs": [],
      "source": [
        "# Kode Anda di sini"
      ]
    },
    {
      "cell_type": "markdown",
      "id": "b0eef526",
      "metadata": {
        "id": "b0eef526"
      },
      "source": [
        "### Soal 3.3.c (4 poin)\n",
        "\n",
        "Buat embedding dari variabel `query` dengan menggunakan dua model dari soal 3.3.a dan 3.3.b, lalu ambil lima dokumen dengan skor paling tinggi dari `corpus`. Anda dapat memanfaatkan fungsi *semantic search* dari Sentence Transformers."
      ]
    },
    {
      "cell_type": "code",
      "execution_count": null,
      "id": "06364352",
      "metadata": {
        "id": "06364352"
      },
      "outputs": [],
      "source": [
        "from sentence_transformers import util\n",
        "\n",
        "# Kode Anda di sini"
      ]
    },
    {
      "cell_type": "markdown",
      "id": "441ad722",
      "metadata": {
        "id": "441ad722"
      },
      "source": [
        "### Soal 3.3.d (2 poin)\n",
        "\n",
        "Apa yang dapat Anda amati dari hasil kedua model di atas? Apa yang menyebabkan perbedaan tersebut?"
      ]
    },
    {
      "cell_type": "markdown",
      "id": "e18add26",
      "metadata": {
        "id": "e18add26"
      },
      "source": [
        "*Jawaban Anda di sini*"
      ]
    },
    {
      "cell_type": "markdown",
      "id": "74504641",
      "metadata": {
        "id": "74504641"
      },
      "source": [
        "### Soal 3.4 (3 poin)\n",
        "\n",
        "Dengan menggunakan model `intfloat/multilingual-e5-small` untuk mencari dokumen yang relevan, rangkum hasilnya dengan model `Llama-3.2-1B`.\n",
        "\n",
        "Catatan: Anda mungkin butuh rekayasa *prompt* agar mendapatkan hasil yang diharapkan, e.g. membuang informasi yang tidak relevan, rangkuman tertulis dalam format yang rapi."
      ]
    },
    {
      "cell_type": "code",
      "execution_count": null,
      "id": "518bbbc7",
      "metadata": {
        "id": "518bbbc7"
      },
      "outputs": [],
      "source": [
        "# Kode Anda di sini"
      ]
    },
    {
      "cell_type": "markdown",
      "id": "b9f5c909",
      "metadata": {
        "id": "b9f5c909"
      },
      "source": [
        "### Soal 3.5 (2 poin)\n",
        "\n",
        "Jelaskan dua contoh metrik evaluasi yang dapat digunakan untuk mengukur kualitas bagian generation dari sebuah sistem RAG."
      ]
    },
    {
      "cell_type": "markdown",
      "id": "4e2dd666",
      "metadata": {
        "id": "4e2dd666"
      },
      "source": [
        "*Jawaban Anda di sini*"
      ]
    },
    {
      "cell_type": "markdown",
      "id": "18417d95",
      "metadata": {
        "id": "18417d95"
      },
      "source": [
        "### Soal 3.6 (5 poin)\n",
        "\n",
        "Lakukan eksplorasi tambahan untuk bagian ini, misalnya:\n",
        "1. Evaluasi sistem Anda dengan query yang berbeda\n",
        "2. Gunakan model berbeda untuk bagian IR dari sistem\n",
        "3. Gunakan model berbeda sebagai LLM\n",
        "4. Gunakan OpenAI API tanpa komponen IR untuk mengevaluasi query"
      ]
    },
    {
      "cell_type": "code",
      "execution_count": null,
      "id": "81bd40cb",
      "metadata": {
        "id": "81bd40cb"
      },
      "outputs": [],
      "source": [
        "# Kode Anda di sini"
      ]
    }
  ],
  "metadata": {
    "kernelspec": {
      "display_name": "base",
      "language": "python",
      "name": "python3"
    },
    "language_info": {
      "codemirror_mode": {
        "name": "ipython",
        "version": 3
      },
      "file_extension": ".py",
      "mimetype": "text/x-python",
      "name": "python",
      "nbconvert_exporter": "python",
      "pygments_lexer": "ipython3",
      "version": "3.12.7"
    },
    "colab": {
      "provenance": []
    }
  },
  "nbformat": 4,
  "nbformat_minor": 5
}