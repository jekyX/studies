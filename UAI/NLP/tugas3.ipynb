{
  "cells": [
    {
      "cell_type": "markdown",
      "id": "a9c8c3b3",
      "metadata": {
        "id": "a9c8c3b3"
      },
      "source": [
        "# Natural Language Processing\n",
        "\n",
        "## Tugas 3: Information Retrieval\n",
        "\n",
        "### Mekanisme\n",
        "\n",
        "Anda hanya diwajibkan untuk mengumpulkan file ini saja ke uploader yang disediakan di https://elearning.uai.ac.id/. Ganti nama file ini saat pengumpulan menjadi **tugas3_NIM.ipynb**.\n",
        "\n",
        "**Keterlambatan**: Pengumpulan tugas yang melebihi tenggat yang telah ditentukan tidak akan diterima. Keterlambatan akan berakibat pada nilai nol untuk tugas ini.\n",
        "\n",
        "**Kolaborasi**: Anda diperbolehkan untuk berdiskusi dengan teman Anda, tetapi dilarang keras menyalin kode maupun tulisan dari teman Anda.\n",
        "\n",
        "### Petunjuk\n",
        "\n",
        "Pastikan jawaban Anda singkat, padat, dan jelas. Mayoritas pertanyaan yang diberikan dapat dijawab dalam 3-4 kalimat saja.\n",
        "\n",
        "### Catatan ⚠️\n",
        "\n",
        "1. Anda mungkin membutuhkan akses GPU untuk mengerjakan tugas ini. Untuk memudahkan, Anda dapat menggunakan akses GPU gratis dari [Google Colab](https://colab.research.google.com/).\n",
        "2. Untuk bagian 3 dari tugas ini, Anda memerlukan akses ke model [Llama-3.2-1B](https://huggingface.co/meta-llama/Llama-3.2-1B)."
      ]
    },
    {
      "cell_type": "code",
      "execution_count": 61,
      "id": "fc2bd648",
      "metadata": {
        "id": "fc2bd648"
      },
      "outputs": [],
      "source": [
        "import matplotlib.pyplot as plt\n",
        "import numpy as np\n",
        "import pandas as pd"
      ]
    },
    {
      "cell_type": "code",
      "execution_count": 62,
      "id": "6f2f10e8",
      "metadata": {
        "id": "6f2f10e8",
        "outputId": "530c3793-076d-4737-899e-72429df468b2",
        "colab": {
          "base_uri": "https://localhost:8080/"
        },
        "collapsed": true
      },
      "outputs": [
        {
          "output_type": "stream",
          "name": "stdout",
          "text": [
            "Requirement already satisfied: huggingface_hub in /usr/local/lib/python3.11/dist-packages (0.33.1)\n",
            "Requirement already satisfied: fastparquet in /usr/local/lib/python3.11/dist-packages (2024.11.0)\n",
            "Requirement already satisfied: pyarrow in /usr/local/lib/python3.11/dist-packages (18.1.0)\n",
            "Requirement already satisfied: rank_bm25 in /usr/local/lib/python3.11/dist-packages (0.2.2)\n",
            "Requirement already satisfied: filelock in /usr/local/lib/python3.11/dist-packages (from huggingface_hub) (3.18.0)\n",
            "Requirement already satisfied: fsspec>=2023.5.0 in /usr/local/lib/python3.11/dist-packages (from huggingface_hub) (2025.3.2)\n",
            "Requirement already satisfied: packaging>=20.9 in /usr/local/lib/python3.11/dist-packages (from huggingface_hub) (24.2)\n",
            "Requirement already satisfied: pyyaml>=5.1 in /usr/local/lib/python3.11/dist-packages (from huggingface_hub) (6.0.2)\n",
            "Requirement already satisfied: requests in /usr/local/lib/python3.11/dist-packages (from huggingface_hub) (2.32.3)\n",
            "Requirement already satisfied: tqdm>=4.42.1 in /usr/local/lib/python3.11/dist-packages (from huggingface_hub) (4.67.1)\n",
            "Requirement already satisfied: typing-extensions>=3.7.4.3 in /usr/local/lib/python3.11/dist-packages (from huggingface_hub) (4.14.0)\n",
            "Requirement already satisfied: hf-xet<2.0.0,>=1.1.2 in /usr/local/lib/python3.11/dist-packages (from huggingface_hub) (1.1.5)\n",
            "Requirement already satisfied: pandas>=1.5.0 in /usr/local/lib/python3.11/dist-packages (from fastparquet) (2.2.2)\n",
            "Requirement already satisfied: numpy in /usr/local/lib/python3.11/dist-packages (from fastparquet) (2.0.2)\n",
            "Requirement already satisfied: cramjam>=2.3 in /usr/local/lib/python3.11/dist-packages (from fastparquet) (2.10.0)\n",
            "Requirement already satisfied: python-dateutil>=2.8.2 in /usr/local/lib/python3.11/dist-packages (from pandas>=1.5.0->fastparquet) (2.9.0.post0)\n",
            "Requirement already satisfied: pytz>=2020.1 in /usr/local/lib/python3.11/dist-packages (from pandas>=1.5.0->fastparquet) (2025.2)\n",
            "Requirement already satisfied: tzdata>=2022.7 in /usr/local/lib/python3.11/dist-packages (from pandas>=1.5.0->fastparquet) (2025.2)\n",
            "Requirement already satisfied: charset-normalizer<4,>=2 in /usr/local/lib/python3.11/dist-packages (from requests->huggingface_hub) (3.4.2)\n",
            "Requirement already satisfied: idna<4,>=2.5 in /usr/local/lib/python3.11/dist-packages (from requests->huggingface_hub) (3.10)\n",
            "Requirement already satisfied: urllib3<3,>=1.21.1 in /usr/local/lib/python3.11/dist-packages (from requests->huggingface_hub) (2.4.0)\n",
            "Requirement already satisfied: certifi>=2017.4.17 in /usr/local/lib/python3.11/dist-packages (from requests->huggingface_hub) (2025.6.15)\n",
            "Requirement already satisfied: six>=1.5 in /usr/local/lib/python3.11/dist-packages (from python-dateutil>=2.8.2->pandas>=1.5.0->fastparquet) (1.17.0)\n"
          ]
        }
      ],
      "source": [
        "# Jalani cell ini untuk menginstalasi dependencies untuk memuat data dan menjalankan model\n",
        "!pip install huggingface_hub fastparquet pyarrow rank_bm25"
      ]
    },
    {
      "cell_type": "markdown",
      "id": "06c9766c",
      "metadata": {
        "id": "06c9766c"
      },
      "source": [
        "## 1. Spare Matrix Retrieval (15 poin)\n",
        "\n",
        "*Acknowledgement:* Data yang digunakan dalam tugas ini adalah [MS MARCO](https://huggingface.co/datasets/microsoft/ms_marco), sebuah koleksi dataset yang digunakan untuk mengembangkan model deep learning dalam kasus pencarian. Kumpulan data ini adalah jawaban pertanyaan berdasarkan 100.000 pertanyaan Bing asli dan jawaban yang dibuat manusia.\n",
        "\n",
        "Untuk bagian ini, gunakan `df_train` untuk menjawab soal-soal yang diberikan."
      ]
    },
    {
      "cell_type": "code",
      "execution_count": 81,
      "id": "83e1cbdc",
      "metadata": {
        "id": "83e1cbdc"
      },
      "outputs": [],
      "source": [
        "splits = {\n",
        "    \"validation\": \"v1.1/validation-00000-of-00001.parquet\",\n",
        "    \"train\": \"v1.1/train-00000-of-00001.parquet\",\n",
        "    \"test\": \"v1.1/test-00000-of-00001.parquet\",\n",
        "}\n",
        "df_train = pd.read_parquet(\"hf://datasets/microsoft/ms_marco/\" + splits[\"train\"])\n",
        "df_val = pd.read_parquet(\"hf://datasets/microsoft/ms_marco/\" + splits[\"validation\"])\n",
        "df_test = pd.read_parquet(\"hf://datasets/microsoft/ms_marco/\" + splits[\"test\"])"
      ]
    },
    {
      "cell_type": "code",
      "execution_count": 84,
      "id": "e593d4a3",
      "metadata": {
        "id": "e593d4a3",
        "outputId": "595f82e3-0704-45f7-dd51-dde4e6f5f886",
        "colab": {
          "base_uri": "https://localhost:8080/",
          "height": 363
        }
      },
      "outputs": [
        {
          "output_type": "execute_result",
          "data": {
            "text/plain": [
              "                                                 answers  \\\n",
              "82316                        [Lactobacillus and Yogurt.]   \n",
              "82317                                       [Sarmations]   \n",
              "82318      [Arepa flour, cheese, and 1/8 teaspoon salt.]   \n",
              "82319                                         [Oak Tree]   \n",
              "82320                            [$6-$16 a square foot.]   \n",
              "82321  [The act or action of propagating as a increas...   \n",
              "82322                                              [Yes]   \n",
              "82323                                          [Chablis]   \n",
              "82324  [1 Lithium carbonate 150 mg capsules. Lithium ...   \n",
              "82325  [Burdick & Jackson solvents are arranged in or...   \n",
              "\n",
              "                                                passages  \\\n",
              "82316  {'is_selected': [0, 0, 0, 0, 1, 0, 1, 0, 0], '...   \n",
              "82317  {'is_selected': [0, 0, 0, 0, 0, 0, 1], 'passag...   \n",
              "82318  {'is_selected': [1, 0, 0, 0, 0, 0, 0], 'passag...   \n",
              "82319  {'is_selected': [1, 0, 0, 0, 0, 0, 0, 0, 0, 0]...   \n",
              "82320  {'is_selected': [0, 0, 0, 0, 1, 0], 'passage_t...   \n",
              "82321  {'is_selected': [1, 0, 0], 'passage_text': ['d...   \n",
              "82322  {'is_selected': [0, 0, 1, 0, 0, 0, 0, 0, 0], '...   \n",
              "82323  {'is_selected': [0, 1, 0, 0, 0, 0], 'passage_t...   \n",
              "82324  {'is_selected': [0, 0, 0, 1, 0, 0, 0, 0, 0], '...   \n",
              "82325  {'is_selected': [1, 0, 0, 0, 0, 0, 0, 0, 0, 0]...   \n",
              "\n",
              "                                                   query  query_id  \\\n",
              "82316     different types names of good bacteria in food    102119   \n",
              "82317                 who invented the saddle for horses    102120   \n",
              "82318           what are the main ingredients for arepas    102121   \n",
              "82319                           meaning of the name ayla    102122   \n",
              "82320  hydronic radiant floor heating cost per square...    102123   \n",
              "82321                             meaning of propagation    102124   \n",
              "82322  do you have to do a phd to be a clinical psych...    102125   \n",
              "82323                        what wine goes with oysters    102126   \n",
              "82324                what strengths does lithium come in    102127   \n",
              "82325                  what is polarity index definition    102128   \n",
              "\n",
              "        query_type wellFormedAnswers  \n",
              "82316       entity                []  \n",
              "82317       person                []  \n",
              "82318       entity                []  \n",
              "82319  description                []  \n",
              "82320      numeric                []  \n",
              "82321  description                []  \n",
              "82322  description                []  \n",
              "82323       entity                []  \n",
              "82324  description                []  \n",
              "82325  description                []  "
            ],
            "text/html": [
              "\n",
              "  <div id=\"df-e97faa20-01a7-4c05-b6ee-434eb2ab06e9\" class=\"colab-df-container\">\n",
              "    <div>\n",
              "<style scoped>\n",
              "    .dataframe tbody tr th:only-of-type {\n",
              "        vertical-align: middle;\n",
              "    }\n",
              "\n",
              "    .dataframe tbody tr th {\n",
              "        vertical-align: top;\n",
              "    }\n",
              "\n",
              "    .dataframe thead th {\n",
              "        text-align: right;\n",
              "    }\n",
              "</style>\n",
              "<table border=\"1\" class=\"dataframe\">\n",
              "  <thead>\n",
              "    <tr style=\"text-align: right;\">\n",
              "      <th></th>\n",
              "      <th>answers</th>\n",
              "      <th>passages</th>\n",
              "      <th>query</th>\n",
              "      <th>query_id</th>\n",
              "      <th>query_type</th>\n",
              "      <th>wellFormedAnswers</th>\n",
              "    </tr>\n",
              "  </thead>\n",
              "  <tbody>\n",
              "    <tr>\n",
              "      <th>82316</th>\n",
              "      <td>[Lactobacillus and Yogurt.]</td>\n",
              "      <td>{'is_selected': [0, 0, 0, 0, 1, 0, 1, 0, 0], '...</td>\n",
              "      <td>different types names of good bacteria in food</td>\n",
              "      <td>102119</td>\n",
              "      <td>entity</td>\n",
              "      <td>[]</td>\n",
              "    </tr>\n",
              "    <tr>\n",
              "      <th>82317</th>\n",
              "      <td>[Sarmations]</td>\n",
              "      <td>{'is_selected': [0, 0, 0, 0, 0, 0, 1], 'passag...</td>\n",
              "      <td>who invented the saddle for horses</td>\n",
              "      <td>102120</td>\n",
              "      <td>person</td>\n",
              "      <td>[]</td>\n",
              "    </tr>\n",
              "    <tr>\n",
              "      <th>82318</th>\n",
              "      <td>[Arepa flour, cheese, and 1/8 teaspoon salt.]</td>\n",
              "      <td>{'is_selected': [1, 0, 0, 0, 0, 0, 0], 'passag...</td>\n",
              "      <td>what are the main ingredients for arepas</td>\n",
              "      <td>102121</td>\n",
              "      <td>entity</td>\n",
              "      <td>[]</td>\n",
              "    </tr>\n",
              "    <tr>\n",
              "      <th>82319</th>\n",
              "      <td>[Oak Tree]</td>\n",
              "      <td>{'is_selected': [1, 0, 0, 0, 0, 0, 0, 0, 0, 0]...</td>\n",
              "      <td>meaning of the name ayla</td>\n",
              "      <td>102122</td>\n",
              "      <td>description</td>\n",
              "      <td>[]</td>\n",
              "    </tr>\n",
              "    <tr>\n",
              "      <th>82320</th>\n",
              "      <td>[$6-$16 a square foot.]</td>\n",
              "      <td>{'is_selected': [0, 0, 0, 0, 1, 0], 'passage_t...</td>\n",
              "      <td>hydronic radiant floor heating cost per square...</td>\n",
              "      <td>102123</td>\n",
              "      <td>numeric</td>\n",
              "      <td>[]</td>\n",
              "    </tr>\n",
              "    <tr>\n",
              "      <th>82321</th>\n",
              "      <td>[The act or action of propagating as a increas...</td>\n",
              "      <td>{'is_selected': [1, 0, 0], 'passage_text': ['d...</td>\n",
              "      <td>meaning of propagation</td>\n",
              "      <td>102124</td>\n",
              "      <td>description</td>\n",
              "      <td>[]</td>\n",
              "    </tr>\n",
              "    <tr>\n",
              "      <th>82322</th>\n",
              "      <td>[Yes]</td>\n",
              "      <td>{'is_selected': [0, 0, 1, 0, 0, 0, 0, 0, 0], '...</td>\n",
              "      <td>do you have to do a phd to be a clinical psych...</td>\n",
              "      <td>102125</td>\n",
              "      <td>description</td>\n",
              "      <td>[]</td>\n",
              "    </tr>\n",
              "    <tr>\n",
              "      <th>82323</th>\n",
              "      <td>[Chablis]</td>\n",
              "      <td>{'is_selected': [0, 1, 0, 0, 0, 0], 'passage_t...</td>\n",
              "      <td>what wine goes with oysters</td>\n",
              "      <td>102126</td>\n",
              "      <td>entity</td>\n",
              "      <td>[]</td>\n",
              "    </tr>\n",
              "    <tr>\n",
              "      <th>82324</th>\n",
              "      <td>[1 Lithium carbonate 150 mg capsules. Lithium ...</td>\n",
              "      <td>{'is_selected': [0, 0, 0, 1, 0, 0, 0, 0, 0], '...</td>\n",
              "      <td>what strengths does lithium come in</td>\n",
              "      <td>102127</td>\n",
              "      <td>description</td>\n",
              "      <td>[]</td>\n",
              "    </tr>\n",
              "    <tr>\n",
              "      <th>82325</th>\n",
              "      <td>[Burdick &amp; Jackson solvents are arranged in or...</td>\n",
              "      <td>{'is_selected': [1, 0, 0, 0, 0, 0, 0, 0, 0, 0]...</td>\n",
              "      <td>what is polarity index definition</td>\n",
              "      <td>102128</td>\n",
              "      <td>description</td>\n",
              "      <td>[]</td>\n",
              "    </tr>\n",
              "  </tbody>\n",
              "</table>\n",
              "</div>\n",
              "    <div class=\"colab-df-buttons\">\n",
              "\n",
              "  <div class=\"colab-df-container\">\n",
              "    <button class=\"colab-df-convert\" onclick=\"convertToInteractive('df-e97faa20-01a7-4c05-b6ee-434eb2ab06e9')\"\n",
              "            title=\"Convert this dataframe to an interactive table.\"\n",
              "            style=\"display:none;\">\n",
              "\n",
              "  <svg xmlns=\"http://www.w3.org/2000/svg\" height=\"24px\" viewBox=\"0 -960 960 960\">\n",
              "    <path d=\"M120-120v-720h720v720H120Zm60-500h600v-160H180v160Zm220 220h160v-160H400v160Zm0 220h160v-160H400v160ZM180-400h160v-160H180v160Zm440 0h160v-160H620v160ZM180-180h160v-160H180v160Zm440 0h160v-160H620v160Z\"/>\n",
              "  </svg>\n",
              "    </button>\n",
              "\n",
              "  <style>\n",
              "    .colab-df-container {\n",
              "      display:flex;\n",
              "      gap: 12px;\n",
              "    }\n",
              "\n",
              "    .colab-df-convert {\n",
              "      background-color: #E8F0FE;\n",
              "      border: none;\n",
              "      border-radius: 50%;\n",
              "      cursor: pointer;\n",
              "      display: none;\n",
              "      fill: #1967D2;\n",
              "      height: 32px;\n",
              "      padding: 0 0 0 0;\n",
              "      width: 32px;\n",
              "    }\n",
              "\n",
              "    .colab-df-convert:hover {\n",
              "      background-color: #E2EBFA;\n",
              "      box-shadow: 0px 1px 2px rgba(60, 64, 67, 0.3), 0px 1px 3px 1px rgba(60, 64, 67, 0.15);\n",
              "      fill: #174EA6;\n",
              "    }\n",
              "\n",
              "    .colab-df-buttons div {\n",
              "      margin-bottom: 4px;\n",
              "    }\n",
              "\n",
              "    [theme=dark] .colab-df-convert {\n",
              "      background-color: #3B4455;\n",
              "      fill: #D2E3FC;\n",
              "    }\n",
              "\n",
              "    [theme=dark] .colab-df-convert:hover {\n",
              "      background-color: #434B5C;\n",
              "      box-shadow: 0px 1px 3px 1px rgba(0, 0, 0, 0.15);\n",
              "      filter: drop-shadow(0px 1px 2px rgba(0, 0, 0, 0.3));\n",
              "      fill: #FFFFFF;\n",
              "    }\n",
              "  </style>\n",
              "\n",
              "    <script>\n",
              "      const buttonEl =\n",
              "        document.querySelector('#df-e97faa20-01a7-4c05-b6ee-434eb2ab06e9 button.colab-df-convert');\n",
              "      buttonEl.style.display =\n",
              "        google.colab.kernel.accessAllowed ? 'block' : 'none';\n",
              "\n",
              "      async function convertToInteractive(key) {\n",
              "        const element = document.querySelector('#df-e97faa20-01a7-4c05-b6ee-434eb2ab06e9');\n",
              "        const dataTable =\n",
              "          await google.colab.kernel.invokeFunction('convertToInteractive',\n",
              "                                                    [key], {});\n",
              "        if (!dataTable) return;\n",
              "\n",
              "        const docLinkHtml = 'Like what you see? Visit the ' +\n",
              "          '<a target=\"_blank\" href=https://colab.research.google.com/notebooks/data_table.ipynb>data table notebook</a>'\n",
              "          + ' to learn more about interactive tables.';\n",
              "        element.innerHTML = '';\n",
              "        dataTable['output_type'] = 'display_data';\n",
              "        await google.colab.output.renderOutput(dataTable, element);\n",
              "        const docLink = document.createElement('div');\n",
              "        docLink.innerHTML = docLinkHtml;\n",
              "        element.appendChild(docLink);\n",
              "      }\n",
              "    </script>\n",
              "  </div>\n",
              "\n",
              "\n",
              "    <div id=\"df-0426465b-903d-4ac1-8a25-b5854f872765\">\n",
              "      <button class=\"colab-df-quickchart\" onclick=\"quickchart('df-0426465b-903d-4ac1-8a25-b5854f872765')\"\n",
              "                title=\"Suggest charts\"\n",
              "                style=\"display:none;\">\n",
              "\n",
              "<svg xmlns=\"http://www.w3.org/2000/svg\" height=\"24px\"viewBox=\"0 0 24 24\"\n",
              "     width=\"24px\">\n",
              "    <g>\n",
              "        <path d=\"M19 3H5c-1.1 0-2 .9-2 2v14c0 1.1.9 2 2 2h14c1.1 0 2-.9 2-2V5c0-1.1-.9-2-2-2zM9 17H7v-7h2v7zm4 0h-2V7h2v10zm4 0h-2v-4h2v4z\"/>\n",
              "    </g>\n",
              "</svg>\n",
              "      </button>\n",
              "\n",
              "<style>\n",
              "  .colab-df-quickchart {\n",
              "      --bg-color: #E8F0FE;\n",
              "      --fill-color: #1967D2;\n",
              "      --hover-bg-color: #E2EBFA;\n",
              "      --hover-fill-color: #174EA6;\n",
              "      --disabled-fill-color: #AAA;\n",
              "      --disabled-bg-color: #DDD;\n",
              "  }\n",
              "\n",
              "  [theme=dark] .colab-df-quickchart {\n",
              "      --bg-color: #3B4455;\n",
              "      --fill-color: #D2E3FC;\n",
              "      --hover-bg-color: #434B5C;\n",
              "      --hover-fill-color: #FFFFFF;\n",
              "      --disabled-bg-color: #3B4455;\n",
              "      --disabled-fill-color: #666;\n",
              "  }\n",
              "\n",
              "  .colab-df-quickchart {\n",
              "    background-color: var(--bg-color);\n",
              "    border: none;\n",
              "    border-radius: 50%;\n",
              "    cursor: pointer;\n",
              "    display: none;\n",
              "    fill: var(--fill-color);\n",
              "    height: 32px;\n",
              "    padding: 0;\n",
              "    width: 32px;\n",
              "  }\n",
              "\n",
              "  .colab-df-quickchart:hover {\n",
              "    background-color: var(--hover-bg-color);\n",
              "    box-shadow: 0 1px 2px rgba(60, 64, 67, 0.3), 0 1px 3px 1px rgba(60, 64, 67, 0.15);\n",
              "    fill: var(--button-hover-fill-color);\n",
              "  }\n",
              "\n",
              "  .colab-df-quickchart-complete:disabled,\n",
              "  .colab-df-quickchart-complete:disabled:hover {\n",
              "    background-color: var(--disabled-bg-color);\n",
              "    fill: var(--disabled-fill-color);\n",
              "    box-shadow: none;\n",
              "  }\n",
              "\n",
              "  .colab-df-spinner {\n",
              "    border: 2px solid var(--fill-color);\n",
              "    border-color: transparent;\n",
              "    border-bottom-color: var(--fill-color);\n",
              "    animation:\n",
              "      spin 1s steps(1) infinite;\n",
              "  }\n",
              "\n",
              "  @keyframes spin {\n",
              "    0% {\n",
              "      border-color: transparent;\n",
              "      border-bottom-color: var(--fill-color);\n",
              "      border-left-color: var(--fill-color);\n",
              "    }\n",
              "    20% {\n",
              "      border-color: transparent;\n",
              "      border-left-color: var(--fill-color);\n",
              "      border-top-color: var(--fill-color);\n",
              "    }\n",
              "    30% {\n",
              "      border-color: transparent;\n",
              "      border-left-color: var(--fill-color);\n",
              "      border-top-color: var(--fill-color);\n",
              "      border-right-color: var(--fill-color);\n",
              "    }\n",
              "    40% {\n",
              "      border-color: transparent;\n",
              "      border-right-color: var(--fill-color);\n",
              "      border-top-color: var(--fill-color);\n",
              "    }\n",
              "    60% {\n",
              "      border-color: transparent;\n",
              "      border-right-color: var(--fill-color);\n",
              "    }\n",
              "    80% {\n",
              "      border-color: transparent;\n",
              "      border-right-color: var(--fill-color);\n",
              "      border-bottom-color: var(--fill-color);\n",
              "    }\n",
              "    90% {\n",
              "      border-color: transparent;\n",
              "      border-bottom-color: var(--fill-color);\n",
              "    }\n",
              "  }\n",
              "</style>\n",
              "\n",
              "      <script>\n",
              "        async function quickchart(key) {\n",
              "          const quickchartButtonEl =\n",
              "            document.querySelector('#' + key + ' button');\n",
              "          quickchartButtonEl.disabled = true;  // To prevent multiple clicks.\n",
              "          quickchartButtonEl.classList.add('colab-df-spinner');\n",
              "          try {\n",
              "            const charts = await google.colab.kernel.invokeFunction(\n",
              "                'suggestCharts', [key], {});\n",
              "          } catch (error) {\n",
              "            console.error('Error during call to suggestCharts:', error);\n",
              "          }\n",
              "          quickchartButtonEl.classList.remove('colab-df-spinner');\n",
              "          quickchartButtonEl.classList.add('colab-df-quickchart-complete');\n",
              "        }\n",
              "        (() => {\n",
              "          let quickchartButtonEl =\n",
              "            document.querySelector('#df-0426465b-903d-4ac1-8a25-b5854f872765 button');\n",
              "          quickchartButtonEl.style.display =\n",
              "            google.colab.kernel.accessAllowed ? 'block' : 'none';\n",
              "        })();\n",
              "      </script>\n",
              "    </div>\n",
              "\n",
              "    </div>\n",
              "  </div>\n"
            ],
            "application/vnd.google.colaboratory.intrinsic+json": {
              "type": "dataframe",
              "summary": "{\n  \"name\": \"df_train\",\n  \"rows\": 10,\n  \"fields\": [\n    {\n      \"column\": \"answers\",\n      \"properties\": {\n        \"dtype\": \"object\",\n        \"semantic_type\": \"\",\n        \"description\": \"\"\n      }\n    },\n    {\n      \"column\": \"passages\",\n      \"properties\": {\n        \"dtype\": \"object\",\n        \"semantic_type\": \"\",\n        \"description\": \"\"\n      }\n    },\n    {\n      \"column\": \"query\",\n      \"properties\": {\n        \"dtype\": \"string\",\n        \"num_unique_values\": 10,\n        \"samples\": [\n          \"what strengths does lithium come in\",\n          \"who invented the saddle for horses\",\n          \"meaning of propagation\"\n        ],\n        \"semantic_type\": \"\",\n        \"description\": \"\"\n      }\n    },\n    {\n      \"column\": \"query_id\",\n      \"properties\": {\n        \"dtype\": \"int32\",\n        \"num_unique_values\": 10,\n        \"samples\": [\n          102127,\n          102120,\n          102124\n        ],\n        \"semantic_type\": \"\",\n        \"description\": \"\"\n      }\n    },\n    {\n      \"column\": \"query_type\",\n      \"properties\": {\n        \"dtype\": \"category\",\n        \"num_unique_values\": 4,\n        \"samples\": [\n          \"person\",\n          \"numeric\",\n          \"entity\"\n        ],\n        \"semantic_type\": \"\",\n        \"description\": \"\"\n      }\n    },\n    {\n      \"column\": \"wellFormedAnswers\",\n      \"properties\": {\n        \"dtype\": \"object\",\n        \"semantic_type\": \"\",\n        \"description\": \"\"\n      }\n    }\n  ]\n}"
            }
          },
          "metadata": {},
          "execution_count": 84
        }
      ],
      "source": [
        "df_train.tail(10)\n"
      ]
    },
    {
      "cell_type": "markdown",
      "id": "a9369114",
      "metadata": {
        "id": "a9369114"
      },
      "source": [
        "### Soal 1.1 (2 poin)\n",
        "\n",
        "Terdapat beberapa baris yang tidak memiliki passage yang relevan, i.e. semua elemen `is_selected` bernilai nol. Hapus semua baris tersebut."
      ]
    },
    {
      "cell_type": "code",
      "execution_count": 65,
      "id": "b7b3b676",
      "metadata": {
        "id": "b7b3b676"
      },
      "outputs": [],
      "source": [
        "df_train = df_train[df_train['passages'].apply(lambda x: any(x.get('is_selected', [])))]\n",
        "df_val = df_val[df_val['passages'].apply(lambda x: any(x.get('is_selected', [])))]\n",
        "\n",
        "\n",
        "assert df_train.shape[0] == 79704\n",
        "assert df_val.shape[0] == 9706"
      ]
    },
    {
      "cell_type": "code",
      "source": [
        "print(df_train.shape)\n",
        "print(df_val.shape)"
      ],
      "metadata": {
        "id": "zYd4iVwq-vG8",
        "outputId": "140f5b2e-eafb-4dee-fb57-712479082562",
        "colab": {
          "base_uri": "https://localhost:8080/"
        }
      },
      "id": "zYd4iVwq-vG8",
      "execution_count": 66,
      "outputs": [
        {
          "output_type": "stream",
          "name": "stdout",
          "text": [
            "(79704, 6)\n",
            "(9706, 6)\n"
          ]
        }
      ]
    },
    {
      "cell_type": "markdown",
      "id": "2bec0217",
      "metadata": {
        "id": "2bec0217"
      },
      "source": [
        "### Soal 1.2 (2 poin)\n",
        "\n",
        "Lengkapi fungsi untuk menghitung average precision di bawah ini. Nilai parameter `y_true` adalah `is_selected` dari kolom `passages`, sedangkan `y_scores` adalah nilai yang digunakan untuk mengurutkan passage berdasarkan relevansi."
      ]
    },
    {
      "cell_type": "code",
      "execution_count": 67,
      "id": "59751a71",
      "metadata": {
        "id": "59751a71"
      },
      "outputs": [],
      "source": [
        "def average_precision(y_true, y_scores):\n",
        "    y_true = y_true[np.argsort(y_scores)[::-1]]\n",
        "    precisions = [np.sum(y_true[:i+1]) / (i+1) for i in range(len(y_true)) if y_true[i]]\n",
        "    return np.mean(precisions) if precisions else 0.0\n",
        "\n",
        "\n",
        "assert np.isclose(average_precision(np.array([1, 0, 1]), np.array([0.9, 0.8, 0.7])), 0.8333, atol=1e-4)\n",
        "assert np.isclose(average_precision(np.array([1, 0, 1]), np.array([0.95, 0.8, 0.9])), 1.0)\n",
        "assert np.isclose(average_precision(np.array([1, 0, 0]), np.array([0.0, 0.8, 0.9])), 1 / 3)"
      ]
    },
    {
      "cell_type": "code",
      "source": [
        "print(average_precision(np.array([1, 0, 1]), np.array([0.9, 0.8, 0.7])))   # harus ~0.8333\n",
        "print(average_precision(np.array([1, 0, 0]), np.array([0.95, 0.8, 0.9])))  # harus 1.0\n",
        "print(average_precision(np.array([1, 0, 0]), np.array([0.0, 0.8, 0.9])))   # harus ~0.3333\n"
      ],
      "metadata": {
        "collapsed": true,
        "colab": {
          "base_uri": "https://localhost:8080/"
        },
        "id": "ZYywV12-RHdE",
        "outputId": "5524ad41-1d5f-4e05-f8b0-81c2faaa4070"
      },
      "id": "ZYywV12-RHdE",
      "execution_count": 68,
      "outputs": [
        {
          "output_type": "stream",
          "name": "stdout",
          "text": [
            "0.8333333333333333\n",
            "1.0\n",
            "0.3333333333333333\n"
          ]
        }
      ]
    },
    {
      "cell_type": "markdown",
      "id": "9cc95c1c",
      "metadata": {
        "id": "9cc95c1c"
      },
      "source": [
        "### Soal 1.3 (2 poin)\n",
        "\n",
        "Implementasikan fungsi untuk menghitung cosine similarity."
      ]
    },
    {
      "cell_type": "code",
      "execution_count": 74,
      "id": "592f3ec0",
      "metadata": {
        "id": "592f3ec0"
      },
      "outputs": [],
      "source": [
        "def cos_sim(a, b):\n",
        "    return np.dot(a, b) / (np.linalg.norm(a) * np.linalg.norm(b))\n",
        "\n",
        "\n",
        "assert np.isclose(cos_sim(np.array([1, 0]), np.array([1, 0])), 1.0)\n",
        "assert np.isclose(cos_sim(np.array([1, 0]), np.array([0, 1])), 0.0)\n",
        "assert np.isclose(cos_sim(np.array([1, 2]), np.array([2, 4])), 1.0)"
      ]
    },
    {
      "cell_type": "code",
      "source": [
        "print(cos_sim(np.array([1, 0]), np.array([1, 0])))\n",
        "print(cos_sim(np.array([1, 0]), np.array([0, 1])))\n",
        "print(cos_sim(np.array([1, 2]), np.array([2, 4])))"
      ],
      "metadata": {
        "colab": {
          "base_uri": "https://localhost:8080/"
        },
        "id": "wn31rTUKSCQW",
        "outputId": "659f6dd2-3e91-4221-bf4f-c31992ae4ad0"
      },
      "id": "wn31rTUKSCQW",
      "execution_count": 73,
      "outputs": [
        {
          "output_type": "stream",
          "name": "stdout",
          "text": [
            "1.0\n",
            "0.0\n",
            "0.9999999999999998\n"
          ]
        }
      ]
    },
    {
      "cell_type": "markdown",
      "id": "054dd8da",
      "metadata": {
        "id": "054dd8da"
      },
      "source": [
        "### Soal 1.4 (4 poin)\n",
        "\n",
        "Gunakan metode TF-IDF untuk mengukur relevansi dari passage berdasarkan *cosine similarity* dari query dan passages. Hitung nilai *mean average precision* dari sistem yang dihasilkan. Dalam sistem ini, Anda tidak perlu membandingkan query dengan semua passages dari setiap baris di tabel. Anda hanya perlu membandingkan query dengan passages yang ada dalam satu baris."
      ]
    },
    {
      "cell_type": "code",
      "execution_count": 78,
      "id": "da8ac577",
      "metadata": {
        "id": "da8ac577",
        "colab": {
          "base_uri": "https://localhost:8080/"
        },
        "outputId": "873b3c7b-a242-46f5-abce-5ac826f396e7"
      },
      "outputs": [
        {
          "output_type": "stream",
          "name": "stdout",
          "text": [
            "MAP TF-IDF: nan\n"
          ]
        },
        {
          "output_type": "stream",
          "name": "stderr",
          "text": [
            "/usr/local/lib/python3.11/dist-packages/numpy/_core/fromnumeric.py:3596: RuntimeWarning: Mean of empty slice.\n",
            "  return _methods._mean(a, axis=axis, dtype=dtype,\n",
            "/usr/local/lib/python3.11/dist-packages/numpy/_core/_methods.py:138: RuntimeWarning: invalid value encountered in scalar divide\n",
            "  ret = ret.dtype.type(ret / rcount)\n"
          ]
        }
      ],
      "source": [
        "from sklearn.feature_extraction.text import TfidfVectorizer\n",
        "\n",
        "hasil_ap = []\n",
        "\n",
        "for i in range(len(df_val)):\n",
        "    query = df_val.iloc[i]['query']\n",
        "    passages = df_val.iloc[i]['passages']['passage_text']\n",
        "    label = df_val.iloc[i]['passages']['is_selected']\n",
        "\n",
        "    # Gabungkan query dan passages jadi satu list teks\n",
        "    semua_text = [query] + passages\n",
        "    tfidf = TfidfVectorizer().fit_transform(semua_text).toarray()\n",
        "\n",
        "    # Pastikan jumlah vektor sesuai\n",
        "    if len(tfidf) == len(passages) + 1:\n",
        "        query_vec = tfidf[0]\n",
        "        sim = []\n",
        "        for j in range(len(passages)):\n",
        "            sim.append(cos_sim(query_vec, tfidf[j + 1]))\n",
        "\n",
        "        ap = average_precision(np.array(label), np.array(sim))\n",
        "        hasil_ap.append(ap)\n",
        "\n",
        "# Hitung nilai Mean Average Precision (MAP)\n",
        "print(\"MAP TF-IDF:\", np.mean(hasil_ap))\n"
      ]
    },
    {
      "cell_type": "markdown",
      "id": "ea8da923",
      "metadata": {
        "id": "ea8da923"
      },
      "source": [
        "### Soal 1.5 (2 poin)\n",
        "\n",
        "Implementasikan sistem yang serupa seperti soal 1.3, tetapi kali ini gunakan BM25 untuk menghitung skornya. Gunakan implementasi seperti yang dicontohkan [di sini](https://pypi.org/project/rank-bm25/)."
      ]
    },
    {
      "cell_type": "code",
      "execution_count": null,
      "id": "97bce068",
      "metadata": {
        "id": "97bce068",
        "colab": {
          "base_uri": "https://localhost:8080/"
        },
        "outputId": "348333b7-328d-4d3d-d722-f292f7328300"
      },
      "outputs": [
        {
          "output_type": "stream",
          "name": "stdout",
          "text": [
            "MAP BM25: 0.15277777777777776\n"
          ]
        }
      ],
      "source": [
        "from rank_bm25 import BM25Okapi\n",
        "\n",
        "hasil_ap_bm25 = []\n",
        "\n",
        "for i in range(3):  # Ubah ke len(df_val) untuk semua data\n",
        "    query = df_val.iloc[i]['query'].lower().split()\n",
        "    passages = df_val.iloc[i]['passages']['passage_text']\n",
        "    label = df_val.iloc[i]['passages']['is_selected']\n",
        "\n",
        "    token = [p.lower().split() for p in passages]\n",
        "    bm25 = BM25Okapi(token)\n",
        "\n",
        "    sim = bm25.get_scores(query)\n",
        "\n",
        "    ap = average_precision(np.array(label), sim)\n",
        "    hasil_ap_bm25.append(ap)\n",
        "\n",
        "print(\"MAP BM25:\", np.mean(hasil_ap_bm25))"
      ]
    },
    {
      "cell_type": "markdown",
      "id": "32939d7b",
      "metadata": {
        "id": "32939d7b"
      },
      "source": [
        "### Soal 1.6 (3 poin)\n",
        "\n",
        "Bagaimana nilai MAP yang Anda dapatkan dari BM25 jika dibandingkan dengan tf-idf? Mengapa hasilnya seperti itu?"
      ]
    },
    {
      "cell_type": "markdown",
      "id": "afb6e70b",
      "metadata": {
        "id": "afb6e70b"
      },
      "source": [
        "*Jawaban Anda di sini*"
      ]
    },
    {
      "cell_type": "markdown",
      "id": "a22cde03",
      "metadata": {
        "id": "a22cde03"
      },
      "source": [
        "## 2. Dense Matrix Retrieval (10 poin)"
      ]
    },
    {
      "cell_type": "markdown",
      "id": "2c853d79",
      "metadata": {
        "id": "2c853d79"
      },
      "source": [
        "### Soal 2.1 (2 poin)\n",
        "\n",
        "Ambil 500 sampel (baris) dari `df_val`. Hitung nilai MAP dari sistem dengan tf-idf."
      ]
    },
    {
      "cell_type": "code",
      "execution_count": null,
      "id": "46e4cfb9",
      "metadata": {
        "id": "46e4cfb9"
      },
      "outputs": [],
      "source": [
        "np.random.seed(42)\n",
        "\n",
        "df_sample = ... # Ganti ini dengan kode untuk mengambil sampel dari df_val\n",
        "\n",
        "# Kode Anda di sini"
      ]
    },
    {
      "cell_type": "markdown",
      "id": "3cf85fe3",
      "metadata": {
        "id": "3cf85fe3"
      },
      "source": [
        "### Soal 2.2 (3 poin)\n",
        "\n",
        "Gunakan model `all-MiniLM-L6-v2` untuk menghasilkan embeddings dari query dan passages. Lalu, hitung nilai MAP dari sampel yang dihasilkan di soal 2.1."
      ]
    },
    {
      "cell_type": "code",
      "execution_count": null,
      "id": "acb25eb9",
      "metadata": {
        "id": "acb25eb9"
      },
      "outputs": [],
      "source": [
        "from sentence_transformers import SentenceTransformer\n",
        "\n",
        "# Kode Anda di sini"
      ]
    },
    {
      "cell_type": "markdown",
      "id": "2ae3ab63",
      "metadata": {
        "id": "2ae3ab63"
      },
      "source": [
        "### Soal 2.3 (3 poin)\n",
        "\n",
        "Bagaimana nilai MAP yang Anda dapatkan dari sistem dengan embeddings jika dibandingkan dengan tf-idf? Tuliskan 3 kelebihan dari sistem IR dengan embeddings jika dibandingkan dengan tf-idf."
      ]
    },
    {
      "cell_type": "markdown",
      "id": "89333f9f",
      "metadata": {
        "id": "89333f9f"
      },
      "source": [
        "*Jawaban Anda di sini*"
      ]
    },
    {
      "cell_type": "markdown",
      "id": "72f23430",
      "metadata": {
        "id": "72f23430"
      },
      "source": [
        "### Soal 2.4 (2 poin)\n",
        "\n",
        "Karena dataset yang digunakan sudah menangani bagian *retrieval*, gunakan model `CrossEncoder` untuk memberikan skor dari passages yang ada. Hitung nilai MAP-nya. Apakah Anda mendapatkan nilai MAP yang lebih baik?"
      ]
    },
    {
      "cell_type": "code",
      "execution_count": null,
      "id": "f3cce487",
      "metadata": {
        "id": "f3cce487"
      },
      "outputs": [],
      "source": [
        "from sentence_transformers import CrossEncoder\n",
        "\n",
        "# Kode Anda di sini"
      ]
    },
    {
      "cell_type": "markdown",
      "id": "6fcbcb00",
      "metadata": {
        "id": "6fcbcb00"
      },
      "source": [
        "## 3. Retrieval-Augmented Generation (25 poin)\n",
        "\n",
        "*Acknowledgement:* Data yang digunakan pada bagian ini dikumpulkan oleh [Miguel Escobar Varela](https://miguelescobar.com/) dan tersedia secara terbuka di [HuggingFace](https://huggingface.co/datasets/mevsg/warisan-classification-data-v1)."
      ]
    },
    {
      "cell_type": "code",
      "execution_count": null,
      "id": "f5dabac1",
      "metadata": {
        "id": "f5dabac1"
      },
      "outputs": [],
      "source": [
        "splits = {\n",
        "    \"train\": \"data/train-00000-of-00001.parquet\",\n",
        "    \"test\": \"data/test-00000-of-00001.parquet\",\n",
        "}\n",
        "df = pd.concat(\n",
        "    [\n",
        "        pd.read_parquet(\n",
        "            \"hf://datasets/mevsg/warisan-classification-data-v1/\" + splits[\"train\"]\n",
        "        ),\n",
        "        pd.read_parquet(\n",
        "            \"hf://datasets/mevsg/warisan-classification-data-v1/\" + splits[\"test\"]\n",
        "        ),\n",
        "    ],\n",
        "    ignore_index=True\n",
        ")"
      ]
    },
    {
      "cell_type": "markdown",
      "id": "eb2747e8",
      "metadata": {
        "id": "eb2747e8"
      },
      "source": [
        "### Soal 3.1 (3 poin)\n",
        "\n",
        "Dengan menggunakan model `Llama-3.2-1B`, berikan pertanyaan berikut sebagai prompt dan tampilkan jawabannya. Apa yang dapat Anda amati dari hasilnya?"
      ]
    },
    {
      "cell_type": "code",
      "execution_count": null,
      "id": "c4e5e897",
      "metadata": {
        "id": "c4e5e897"
      },
      "outputs": [],
      "source": [
        "query = \"Apa saja warisan budaya tak benda dari Jawa Barat?\"\n",
        "\n",
        "# Kode Anda di sini"
      ]
    },
    {
      "cell_type": "markdown",
      "id": "dbdd6ae1",
      "metadata": {
        "id": "dbdd6ae1"
      },
      "source": [
        "*Jawaban Anda di sini*"
      ]
    },
    {
      "cell_type": "markdown",
      "id": "95f61b3b",
      "metadata": {
        "id": "95f61b3b"
      },
      "source": [
        "### Soal 3.2 (2 poin)\n",
        "\n",
        "Sekarang, Anda akan membangun sistem retrieval-augmented generation (RAG) sederhana. Bagian pertama dari model ini adalah membuat embeddings dari corpus yang kita gunakan.\n",
        "\n",
        "Bentuk corpus dari kolom `texts`. Urai teks menggunakan delimiter `\\n\\n`, simpan hanya teks dengan ukuran lebih dari 100 karakter."
      ]
    },
    {
      "cell_type": "code",
      "execution_count": null,
      "id": "c33c1bf0",
      "metadata": {
        "id": "c33c1bf0"
      },
      "outputs": [],
      "source": [
        "# Kode Anda di sini\n",
        "assert len(corpus) == 12037"
      ]
    },
    {
      "cell_type": "markdown",
      "id": "462042ea",
      "metadata": {
        "id": "462042ea"
      },
      "source": [
        "### Soal 3.3.a (2 poin)\n",
        "\n",
        "Buat embeddings dari corpus dengan model `all-MiniLM-L6-v2`."
      ]
    },
    {
      "cell_type": "code",
      "execution_count": null,
      "id": "0d1a5f98",
      "metadata": {
        "id": "0d1a5f98"
      },
      "outputs": [],
      "source": [
        "# Kode Anda di sini"
      ]
    },
    {
      "cell_type": "markdown",
      "id": "d5dbca98",
      "metadata": {
        "id": "d5dbca98"
      },
      "source": [
        "### Soal 3.3.b (2 poin)\n",
        "\n",
        "Buat embeddings dari corpus dengan model `intfloat/multilingual-e5-small`."
      ]
    },
    {
      "cell_type": "code",
      "execution_count": null,
      "id": "77deaeb7",
      "metadata": {
        "id": "77deaeb7"
      },
      "outputs": [],
      "source": [
        "# Kode Anda di sini"
      ]
    },
    {
      "cell_type": "markdown",
      "id": "b0eef526",
      "metadata": {
        "id": "b0eef526"
      },
      "source": [
        "### Soal 3.3.c (4 poin)\n",
        "\n",
        "Buat embedding dari variabel `query` dengan menggunakan dua model dari soal 3.3.a dan 3.3.b, lalu ambil lima dokumen dengan skor paling tinggi dari `corpus`. Anda dapat memanfaatkan fungsi *semantic search* dari Sentence Transformers."
      ]
    },
    {
      "cell_type": "code",
      "execution_count": null,
      "id": "06364352",
      "metadata": {
        "id": "06364352"
      },
      "outputs": [],
      "source": [
        "from sentence_transformers import util\n",
        "\n",
        "# Kode Anda di sini"
      ]
    },
    {
      "cell_type": "markdown",
      "id": "441ad722",
      "metadata": {
        "id": "441ad722"
      },
      "source": [
        "### Soal 3.3.d (2 poin)\n",
        "\n",
        "Apa yang dapat Anda amati dari hasil kedua model di atas? Apa yang menyebabkan perbedaan tersebut?"
      ]
    },
    {
      "cell_type": "markdown",
      "id": "e18add26",
      "metadata": {
        "id": "e18add26"
      },
      "source": [
        "*Jawaban Anda di sini*"
      ]
    },
    {
      "cell_type": "markdown",
      "id": "74504641",
      "metadata": {
        "id": "74504641"
      },
      "source": [
        "### Soal 3.4 (3 poin)\n",
        "\n",
        "Dengan menggunakan model `intfloat/multilingual-e5-small` untuk mencari dokumen yang relevan, rangkum hasilnya dengan model `Llama-3.2-1B`.\n",
        "\n",
        "Catatan: Anda mungkin butuh rekayasa *prompt* agar mendapatkan hasil yang diharapkan, e.g. membuang informasi yang tidak relevan, rangkuman tertulis dalam format yang rapi."
      ]
    },
    {
      "cell_type": "code",
      "execution_count": null,
      "id": "518bbbc7",
      "metadata": {
        "id": "518bbbc7"
      },
      "outputs": [],
      "source": [
        "# Kode Anda di sini"
      ]
    },
    {
      "cell_type": "markdown",
      "id": "b9f5c909",
      "metadata": {
        "id": "b9f5c909"
      },
      "source": [
        "### Soal 3.5 (2 poin)\n",
        "\n",
        "Jelaskan dua contoh metrik evaluasi yang dapat digunakan untuk mengukur kualitas bagian generation dari sebuah sistem RAG."
      ]
    },
    {
      "cell_type": "markdown",
      "id": "4e2dd666",
      "metadata": {
        "id": "4e2dd666"
      },
      "source": [
        "*Jawaban Anda di sini*"
      ]
    },
    {
      "cell_type": "markdown",
      "id": "18417d95",
      "metadata": {
        "id": "18417d95"
      },
      "source": [
        "### Soal 3.6 (5 poin)\n",
        "\n",
        "Lakukan eksplorasi tambahan untuk bagian ini, misalnya:\n",
        "1. Evaluasi sistem Anda dengan query yang berbeda\n",
        "2. Gunakan model berbeda untuk bagian IR dari sistem\n",
        "3. Gunakan model berbeda sebagai LLM\n",
        "4. Gunakan OpenAI API tanpa komponen IR untuk mengevaluasi query"
      ]
    },
    {
      "cell_type": "code",
      "execution_count": null,
      "id": "81bd40cb",
      "metadata": {
        "id": "81bd40cb"
      },
      "outputs": [],
      "source": [
        "# Kode Anda di sini"
      ]
    }
  ],
  "metadata": {
    "kernelspec": {
      "display_name": "base",
      "language": "python",
      "name": "python3"
    },
    "language_info": {
      "codemirror_mode": {
        "name": "ipython",
        "version": 3
      },
      "file_extension": ".py",
      "mimetype": "text/x-python",
      "name": "python",
      "nbconvert_exporter": "python",
      "pygments_lexer": "ipython3",
      "version": "3.12.7"
    },
    "colab": {
      "provenance": []
    }
  },
  "nbformat": 4,
  "nbformat_minor": 5
}